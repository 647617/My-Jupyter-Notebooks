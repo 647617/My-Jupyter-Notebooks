{
 "cells": [
  {
   "cell_type": "code",
   "execution_count": 109,
   "id": "2967f755",
   "metadata": {},
   "outputs": [],
   "source": [
    "import os\n",
    "import pickle\n",
    "import pandas as pd\n",
    "import numpy as np\n",
    "import matplotlib.pyplot as PLT\n",
    "from nltk.corpus import stopwords\n",
    "from bs4 import BeautifulSoup\n",
    "import re,string,unicodedata\n",
    "from sklearn.preprocessing import LabelBinarizer\n",
    "from nltk.tokenize.toktok import ToktokTokenizer\n",
    "from nltk import word_tokenize\n",
    "from sklearn.model_selection import train_test_split\n",
    "from tensorflow.keras.preprocessing.text import Tokenizer\n",
    "from tensorflow.keras.preprocessing.sequence import pad_sequences\n",
    "from sklearn.preprocessing import LabelBinarizer\n",
    "from tensorflow.keras.utils import plot_model\n",
    "from tensorflow.keras.models import Model,Sequential,load_model\n",
    "from tensorflow.keras.layers import Input,Dense,Flatten,Embedding,Conv1D,MaxPool1D,concatenate,Dropout,Conv2D,MaxPool2D,Activation,BatchNormalization"
   ]
  },
  {
   "cell_type": "code",
   "execution_count": 2,
   "id": "fbdd3bfd",
   "metadata": {},
   "outputs": [],
   "source": [
    "import nltk\n",
    "from nltk.stem import PorterStemmer\n",
    "from nltk.stem import WordNetLemmatizer\n",
    "#nltk.download('punkt')\n",
    "#nltk.download('stopwords')\n",
    "#nltk.download('wordnet')\n",
    "#nltk.download('omw-1.4')"
   ]
  },
  {
   "cell_type": "code",
   "execution_count": 33,
   "id": "0bdc82b6",
   "metadata": {},
   "outputs": [
    {
     "name": "stdout",
     "output_type": "stream",
     "text": [
      "(50000, 2)\n"
     ]
    },
    {
     "data": {
      "text/html": [
       "<div>\n",
       "<style scoped>\n",
       "    .dataframe tbody tr th:only-of-type {\n",
       "        vertical-align: middle;\n",
       "    }\n",
       "\n",
       "    .dataframe tbody tr th {\n",
       "        vertical-align: top;\n",
       "    }\n",
       "\n",
       "    .dataframe thead th {\n",
       "        text-align: right;\n",
       "    }\n",
       "</style>\n",
       "<table border=\"1\" class=\"dataframe\">\n",
       "  <thead>\n",
       "    <tr style=\"text-align: right;\">\n",
       "      <th></th>\n",
       "      <th>review</th>\n",
       "      <th>sentiment</th>\n",
       "    </tr>\n",
       "  </thead>\n",
       "  <tbody>\n",
       "    <tr>\n",
       "      <th>0</th>\n",
       "      <td>One of the other reviewers has mentioned that ...</td>\n",
       "      <td>positive</td>\n",
       "    </tr>\n",
       "    <tr>\n",
       "      <th>1</th>\n",
       "      <td>A wonderful little production. &lt;br /&gt;&lt;br /&gt;The...</td>\n",
       "      <td>positive</td>\n",
       "    </tr>\n",
       "    <tr>\n",
       "      <th>2</th>\n",
       "      <td>I thought this was a wonderful way to spend ti...</td>\n",
       "      <td>positive</td>\n",
       "    </tr>\n",
       "    <tr>\n",
       "      <th>3</th>\n",
       "      <td>Basically there's a family where a little boy ...</td>\n",
       "      <td>negative</td>\n",
       "    </tr>\n",
       "    <tr>\n",
       "      <th>4</th>\n",
       "      <td>Petter Mattei's \"Love in the Time of Money\" is...</td>\n",
       "      <td>positive</td>\n",
       "    </tr>\n",
       "    <tr>\n",
       "      <th>5</th>\n",
       "      <td>Probably my all-time favorite movie, a story o...</td>\n",
       "      <td>positive</td>\n",
       "    </tr>\n",
       "    <tr>\n",
       "      <th>6</th>\n",
       "      <td>I sure would like to see a resurrection of a u...</td>\n",
       "      <td>positive</td>\n",
       "    </tr>\n",
       "    <tr>\n",
       "      <th>7</th>\n",
       "      <td>This show was an amazing, fresh &amp; innovative i...</td>\n",
       "      <td>negative</td>\n",
       "    </tr>\n",
       "    <tr>\n",
       "      <th>8</th>\n",
       "      <td>Encouraged by the positive comments about this...</td>\n",
       "      <td>negative</td>\n",
       "    </tr>\n",
       "    <tr>\n",
       "      <th>9</th>\n",
       "      <td>If you like original gut wrenching laughter yo...</td>\n",
       "      <td>positive</td>\n",
       "    </tr>\n",
       "  </tbody>\n",
       "</table>\n",
       "</div>"
      ],
      "text/plain": [
       "                                              review sentiment\n",
       "0  One of the other reviewers has mentioned that ...  positive\n",
       "1  A wonderful little production. <br /><br />The...  positive\n",
       "2  I thought this was a wonderful way to spend ti...  positive\n",
       "3  Basically there's a family where a little boy ...  negative\n",
       "4  Petter Mattei's \"Love in the Time of Money\" is...  positive\n",
       "5  Probably my all-time favorite movie, a story o...  positive\n",
       "6  I sure would like to see a resurrection of a u...  positive\n",
       "7  This show was an amazing, fresh & innovative i...  negative\n",
       "8  Encouraged by the positive comments about this...  negative\n",
       "9  If you like original gut wrenching laughter yo...  positive"
      ]
     },
     "execution_count": 33,
     "metadata": {},
     "output_type": "execute_result"
    }
   ],
   "source": [
    "#importing the training data\n",
    "imdb_data=pd.read_csv('Datasets/Sentiment Analysis/IMDB Dataset.csv')\n",
    "print(imdb_data.shape)\n",
    "imdb_data.head(10)"
   ]
  },
  {
   "cell_type": "code",
   "execution_count": 35,
   "id": "78c6d1e1",
   "metadata": {},
   "outputs": [
    {
     "name": "stderr",
     "output_type": "stream",
     "text": [
      "C:\\Users\\allam\\Anaconda3\\lib\\site-packages\\bs4\\__init__.py:439: MarkupResemblesLocatorWarning: The input looks more like a filename than markup. You may want to open this file and pass the filehandle into Beautiful Soup.\n",
      "  MarkupResemblesLocatorWarning\n"
     ]
    }
   ],
   "source": [
    "#Tokenization of text\n",
    "tokenizer=ToktokTokenizer()\n",
    "#Setting English stopwords\n",
    "stopword_list=nltk.corpus.stopwords.words('english')\n",
    "stemmer = PorterStemmer()\n",
    "lemmatizer = WordNetLemmatizer()\n",
    "\n",
    "from string import punctuation\n",
    "def punctuation_cleaner(string):\n",
    "    global punctuation\n",
    "    punctuation = punctuation+'\\n\\\\//'\n",
    "    s = str.maketrans('','',punctuation)\n",
    "    return string.translate(s)\n",
    "\n",
    "from bs4 import BeautifulSoup\n",
    "#Removing the html strips\n",
    "def strip_html(text):\n",
    "    soup = BeautifulSoup(text, \"html.parser\")\n",
    "    return soup.get_text()\n",
    "\n",
    "#Removing the square brackets\n",
    "def remove_between_square_brackets(text):\n",
    "    return re.sub('\\[[^]]*\\]', '', text)\n",
    "\n",
    "#Removing the noisy text\n",
    "def denoise_text(text):\n",
    "    text = strip_html(text)\n",
    "    text = remove_between_square_brackets(text)\n",
    "    text = punctuation_cleaner(text)\n",
    "    return text\n",
    "\n",
    "#Apply function on review column\n",
    "imdb_data['review']=imdb_data['review'].apply(denoise_text)"
   ]
  },
  {
   "cell_type": "code",
   "execution_count": 36,
   "id": "97a9d89b",
   "metadata": {},
   "outputs": [],
   "source": [
    "#Define function for removing special characters\n",
    "def remove_special_characters(text, remove_digits=True):\n",
    "    pattern=r'[^a-zA-z0-9\\s]'\n",
    "    text=re.sub(pattern,'',text)\n",
    "    return text\n",
    "#Apply function on review column\n",
    "imdb_data['review']=imdb_data['review'].apply(remove_special_characters)"
   ]
  },
  {
   "cell_type": "code",
   "execution_count": 37,
   "id": "1969358b",
   "metadata": {},
   "outputs": [],
   "source": [
    "#Stemming the text\n",
    "def simple_stemmer(text):\n",
    "    ps=nltk.porter.PorterStemmer()\n",
    "    text= ' '.join([ps.stem(word) for word in text.split()])\n",
    "    return text\n",
    "#Apply function on review column\n",
    "imdb_data['review']=imdb_data['review'].apply(simple_stemmer)"
   ]
  },
  {
   "cell_type": "code",
   "execution_count": 39,
   "id": "c12b61cc",
   "metadata": {},
   "outputs": [
    {
     "name": "stdout",
     "output_type": "stream",
     "text": [
      "{'any', 'there', 'hers', 'couldn', \"weren't\", 'them', 'then', 'where', 'same', 'y', 'ain', 't', 'they', 'some', \"needn't\", 'this', \"aren't\", 'she', 'once', \"that'll\", 'as', 'through', 'how', 'him', 'mightn', \"shan't\", 'or', \"it's\", 'theirs', \"she's\", 'we', 'to', 'at', 'out', 'can', 'in', 'up', \"haven't\", 'aren', 'again', 'now', 'further', 'most', 'too', 'a', 'itself', 'so', 'needn', 'is', 'he', 'their', 'my', 'both', \"hadn't\", 'ma', 'which', 'all', 'yours', 'haven', 'into', 'm', 'won', 'down', \"wasn't\", 'other', 'were', 'about', 'yourself', 'am', 'wasn', 'not', 'why', 's', 'what', 'are', 'under', \"shouldn't\", \"should've\", 'our', \"isn't\", 'no', 'hadn', 'do', 'did', 'until', 'it', \"couldn't\", \"hasn't\", 'between', 'an', 'over', 'was', 'against', \"wouldn't\", 'who', 'o', 'yourselves', 'such', 'herself', 'only', 'of', 'i', 'shouldn', 'that', 'if', 'ours', \"you've\", 'because', 'on', 'below', 'off', 'you', 'few', 'while', 're', 'her', 'd', 'the', \"you'd\", 'hasn', 'during', 'doesn', \"mightn't\", 'those', 'nor', \"doesn't\", 'been', 'doing', \"mustn't\", 'don', 'after', 'isn', \"you'll\", \"won't\", 'shan', 'didn', 'had', 'with', 'from', 'very', 'wouldn', 'me', 'before', 'just', 'more', 'here', 'these', 'his', 'its', 've', \"didn't\", 'having', 'above', 'own', 'has', 'and', 'your', \"you're\", 'for', 'weren', 'whom', 'should', 'll', 'myself', 'mustn', 'will', 'himself', 'have', 'when', \"don't\", 'ourselves', 'by', 'each', 'but', 'than', 'themselves', 'being', 'does', 'be'}\n"
     ]
    }
   ],
   "source": [
    "#set stopwords to english\n",
    "stop=set(stopwords.words('english'))\n",
    "print(stop)\n",
    "\n",
    "#removing the stopwords\n",
    "def remove_stopwords(text, is_lower_case=False):\n",
    "    tokens = tokenizer.tokenize(text)\n",
    "    tokens = [token.strip() for token in tokens]\n",
    "    if is_lower_case:\n",
    "        filtered_tokens = [token for token in tokens if token not in stopword_list]\n",
    "    else:\n",
    "        filtered_tokens = [token for token in tokens if token.lower() not in stopword_list]\n",
    "    filtered_text = ' '.join(filtered_tokens)    \n",
    "    return filtered_text\n",
    "#Apply function on review column\n",
    "imdb_data['review']=imdb_data['review'].apply(remove_stopwords)"
   ]
  },
  {
   "cell_type": "code",
   "execution_count": 50,
   "id": "035a5786",
   "metadata": {},
   "outputs": [],
   "source": [
    "# Export the preprocessed dataframe into a CSV file\n",
    "review = imdb_data['review']\n",
    "sentiment = imdb_data['sentiment']\n",
    "data = pd.concat((review, sentiment), axis=1)\n",
    "data.to_csv(\"Datasets/Sentiment Analysis/preprocessed_imdb.csv\", index=False)"
   ]
  },
  {
   "cell_type": "code",
   "execution_count": 92,
   "id": "a339a0b0",
   "metadata": {},
   "outputs": [
    {
     "name": "stdout",
     "output_type": "stream",
     "text": [
      "(50000, 1)\n",
      "Shape of X_Train :  (40000, 1)\n",
      "Shape of Y_Train :  (40000, 1)\n",
      "Shape of X_Test :  (10000, 1)\n",
      "Shape of Y_Test :  (10000, 1)\n"
     ]
    }
   ],
   "source": [
    "#labeling the sentiment data\n",
    "lb=LabelBinarizer()\n",
    "#Transformed sentiment data\n",
    "target=lb.fit_transform(data['sentiment'])\n",
    "print(target.shape)\n",
    "\n",
    "X_train,X_test,Y_train,Y_test = train_test_split(data.iloc[:,:-1],target,test_size=.2)\n",
    "print('Shape of X_Train : ', X_train.shape)\n",
    "print('Shape of Y_Train : ', Y_train.shape)\n",
    "print('Shape of X_Test : ', X_test.shape)\n",
    "print('Shape of Y_Test : ', Y_test.shape)"
   ]
  },
  {
   "cell_type": "code",
   "execution_count": 52,
   "id": "40e1c579",
   "metadata": {},
   "outputs": [
    {
     "data": {
      "text/plain": [
       "'one review ha mention watch 1 oz episod youll hook right thi exactli happen meth first thing struck oz wa brutal unflinch scene violenc set right word go trust thi show faint heart timid thi show pull punch regard drug sex violenc hardcor classic use wordit call oz nicknam given oswald maximum secur state penitentari focus mainli emerald citi experiment section prison cell glass front face inward privaci high agenda em citi home manyaryan muslim gangsta latino christian italian irish moreso scuffl death stare dodgi deal shadi agreement never far awayi would say main appeal show due fact goe show wouldnt dare forget pretti pictur paint mainstream audienc forget charm forget romanceoz doesnt mess around first episod ever saw struck nasti wa surreal couldnt say wa readi watch develop tast oz got accustom high level graphic violenc violenc injustic crook guard wholl sold nickel inmat wholl kill order get away well manner middl class inmat turn prison bitch due lack street skill prison experi watch oz may becom comfort uncomfort viewingthat get touch darker side'"
      ]
     },
     "execution_count": 52,
     "metadata": {},
     "output_type": "execute_result"
    }
   ],
   "source": [
    "#normalized train reviews\n",
    "norm_train_reviews = data.review[:40000]\n",
    "norm_train_reviews[0]"
   ]
  },
  {
   "cell_type": "code",
   "execution_count": 53,
   "id": "f6a5b146",
   "metadata": {},
   "outputs": [
    {
     "data": {
      "text/plain": [
       "'read review watch thi piec cinemat garbag took least 2 page find somebodi els didnt think thi appallingli unfunni montag wasnt acm humour 70 inde ani era thi isnt least funni set sketch comedi ive ever seen itll till come along half skit alreadi done infinit better act monti python woodi allen wa say nice piec anim last 90 second highlight thi film would still get close sum mindless drivelridden thi wast 75 minut semin comedi onli world semin realli doe mean semen scatolog humour onli world scat actual fece precursor joke onli mean thi handbook comedi tit bum odd beaver niceif pubesc boy least one hand free havent found playboy exist give break becaus wa earli 70 way sketch comedi go back least ten year prior onli way could even forgiv thi film even made wa gunpoint retro hardli sketch clown subtli pervert children may cut edg circl could actual funni come realli quit sad kept go throughout entir 75 minut sheer belief may save genuin funni skit end gave film 1 becaus wa lower scoreand onli recommend insomniac coma patientsor perhap peopl suffer lockjawtheir jaw would final drop open disbelief'"
      ]
     },
     "execution_count": 53,
     "metadata": {},
     "output_type": "execute_result"
    }
   ],
   "source": [
    "#Normalized test reviews\n",
    "norm_test_reviews= data.review[40000:]\n",
    "norm_test_reviews[45005]"
   ]
  },
  {
   "cell_type": "code",
   "execution_count": 99,
   "id": "b942072a",
   "metadata": {},
   "outputs": [
    {
     "data": {
      "text/plain": [
       "1483"
      ]
     },
     "execution_count": 99,
     "metadata": {},
     "output_type": "execute_result"
    }
   ],
   "source": [
    "max_len = data['review'].str.split(' ').str.len().max() \n",
    "max_len"
   ]
  },
  {
   "cell_type": "code",
   "execution_count": 100,
   "id": "11e39b88",
   "metadata": {},
   "outputs": [],
   "source": [
    "tokenizer = Tokenizer()\n",
    "tokenizer.fit_on_texts(X_train['review'])"
   ]
  },
  {
   "cell_type": "code",
   "execution_count": 101,
   "id": "753632d2",
   "metadata": {},
   "outputs": [
    {
     "data": {
      "text/plain": [
       "155340"
      ]
     },
     "execution_count": 101,
     "metadata": {},
     "output_type": "execute_result"
    }
   ],
   "source": [
    "vocab_len = len(tokenizer.word_index) + 1 \n",
    "vocab_len"
   ]
  },
  {
   "cell_type": "code",
   "execution_count": 102,
   "id": "00acd387",
   "metadata": {},
   "outputs": [],
   "source": [
    "X_train = tokenizer.texts_to_sequences(X_train['review'])\n",
    "X_train = pad_sequences(X_train,maxlen=max_len,padding='post')"
   ]
  },
  {
   "cell_type": "code",
   "execution_count": 103,
   "id": "09b35bf0",
   "metadata": {},
   "outputs": [],
   "source": [
    "X_test = tokenizer.texts_to_sequences(X_test['review'])\n",
    "X_test = pad_sequences(X_test,maxlen=max_len,padding='post')"
   ]
  },
  {
   "cell_type": "code",
   "execution_count": 104,
   "id": "a815a3b5",
   "metadata": {},
   "outputs": [],
   "source": [
    "model = Sequential([\n",
    "    Embedding(input_dim=vocab_len,output_dim=200,input_shape=(max_len,)),\n",
    "    Conv1D(filters=32, kernel_size=4, activation='relu'),\n",
    "    Dropout(.2),\n",
    "    MaxPool1D(pool_size=2),\n",
    "    Flatten(),\n",
    "    Dense(10,activation='relu'),\n",
    "    Dense(1,activation='sigmoid')\n",
    "])\n",
    "model.compile(\n",
    "    loss='binary_crossentropy',\n",
    "    optimizer = 'adam',\n",
    "    metrics=['accuracy']\n",
    ")"
   ]
  },
  {
   "cell_type": "code",
   "execution_count": 105,
   "id": "31109b17",
   "metadata": {},
   "outputs": [
    {
     "name": "stdout",
     "output_type": "stream",
     "text": [
      "Epoch 1/5\n",
      "2000/2000 [==============================] - 2198s 1s/step - loss: 0.3138 - accuracy: 0.8616 - val_loss: 0.2594 - val_accuracy: 0.8937\n",
      "Epoch 2/5\n",
      "2000/2000 [==============================] - 1006s 503ms/step - loss: 0.1235 - accuracy: 0.9545 - val_loss: 0.3074 - val_accuracy: 0.8851\n",
      "Epoch 3/5\n",
      "2000/2000 [==============================] - 775s 387ms/step - loss: 0.0362 - accuracy: 0.9880 - val_loss: 0.3994 - val_accuracy: 0.8801\n",
      "Epoch 4/5\n",
      "2000/2000 [==============================] - 762s 381ms/step - loss: 0.0121 - accuracy: 0.9961 - val_loss: 0.5624 - val_accuracy: 0.8830\n",
      "Epoch 5/5\n",
      "2000/2000 [==============================] - 742s 371ms/step - loss: 0.0116 - accuracy: 0.9962 - val_loss: 0.6042 - val_accuracy: 0.8636\n"
     ]
    }
   ],
   "source": [
    "history = model.fit(X_train,Y_train,epochs=5,batch_size=20,validation_data=(X_test,Y_test))"
   ]
  },
  {
   "cell_type": "code",
   "execution_count": 106,
   "id": "956e0731",
   "metadata": {},
   "outputs": [
    {
     "name": "stdout",
     "output_type": "stream",
     "text": [
      "Model: \"sequential_10\"\n",
      "_________________________________________________________________\n",
      " Layer (type)                Output Shape              Param #   \n",
      "=================================================================\n",
      " embedding_10 (Embedding)    (None, 1483, 200)         31068000  \n",
      "                                                                 \n",
      " conv1d_10 (Conv1D)          (None, 1480, 32)          25632     \n",
      "                                                                 \n",
      " dropout_9 (Dropout)         (None, 1480, 32)          0         \n",
      "                                                                 \n",
      " max_pooling1d_10 (MaxPoolin  (None, 740, 32)          0         \n",
      " g1D)                                                            \n",
      "                                                                 \n",
      " flatten_10 (Flatten)        (None, 23680)             0         \n",
      "                                                                 \n",
      " dense_18 (Dense)            (None, 10)                236810    \n",
      "                                                                 \n",
      " dense_19 (Dense)            (None, 1)                 11        \n",
      "                                                                 \n",
      "=================================================================\n",
      "Total params: 31,330,453\n",
      "Trainable params: 31,330,453\n",
      "Non-trainable params: 0\n",
      "_________________________________________________________________\n"
     ]
    }
   ],
   "source": [
    "model.summary()"
   ]
  },
  {
   "cell_type": "code",
   "execution_count": 110,
   "id": "94f20090",
   "metadata": {},
   "outputs": [],
   "source": [
    "# Pickle the history object\n",
    "with open('history.pickle', 'wb') as f:\n",
    "    pickle.dump(history.history, f)\n",
    "    \n",
    "# Save the model1    \n",
    "model.save('datasets/models/imdb_1.h5')"
   ]
  },
  {
   "cell_type": "code",
   "execution_count": 111,
   "id": "713e4157",
   "metadata": {},
   "outputs": [
    {
     "data": {
      "text/plain": [
       "[<matplotlib.lines.Line2D at 0x1c309c02508>]"
      ]
     },
     "execution_count": 111,
     "metadata": {},
     "output_type": "execute_result"
    },
    {
     "data": {
      "image/png": "[encoded data removed]",
      "text/plain": [
       "<Figure size 640x480 with 1 Axes>"
      ]
     },
     "metadata": {},
     "output_type": "display_data"
    }
   ],
   "source": [
    "PLT.plot(history.history['accuracy'], color='green', label='train data')\n",
    "PLT.plot(history.history['val_accuracy'], color='red', label='test data')"
   ]
  },
  {
   "cell_type": "code",
   "execution_count": 112,
   "id": "d6815b77",
   "metadata": {},
   "outputs": [
    {
     "data": {
      "text/plain": [
       "[<matplotlib.lines.Line2D at 0x1c33620f048>]"
      ]
     },
     "execution_count": 112,
     "metadata": {},
     "output_type": "execute_result"
    },
    {
     "data": {
      "image/png": "[encoded data removed]",
      "text/plain": [
       "<Figure size 640x480 with 1 Axes>"
      ]
     },
     "metadata": {},
     "output_type": "display_data"
    }
   ],
   "source": [
    "PLT.plot(history.history['loss'], color='green', label='train data')\n",
    "PLT.plot(history.history['val_loss'], color='red', label='test data')"
   ]
  },
  {
   "cell_type": "code",
   "execution_count": null,
   "id": "f5ef5b9a",
   "metadata": {},
   "outputs": [],
   "source": []
  }
 ],
 "metadata": {
  "kernelspec": {
   "display_name": "Python 3 (ipykernel)",
   "language": "python",
   "name": "python3"
  },
  "language_info": {
   "codemirror_mode": {
    "name": "ipython",
    "version": 3
   },
   "file_extension": ".py",
   "mimetype": "text/x-python",
   "name": "python",
   "nbconvert_exporter": "python",
   "pygments_lexer": "ipython3",
   "version": "3.7.15"
  }
 },
 "nbformat": 4,
 "nbformat_minor": 5
}
